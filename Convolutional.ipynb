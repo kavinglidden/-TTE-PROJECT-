{
 "cells": [
  {
   "cell_type": "markdown",
   "id": "23dff801-dd7f-4244-9c1d-8e1bd519c743",
   "metadata": {},
   "source": [
    "# Fashion MNIST Model"
   ]
  },
  {
   "cell_type": "code",
   "execution_count": 24,
   "id": "0ece6d75-00a9-4e1f-a22f-7f44920d5b2f",
   "metadata": {
    "execution": {
     "iopub.execute_input": "2024-02-11T12:21:57.299770Z",
     "iopub.status.busy": "2024-02-11T12:21:57.299421Z",
     "iopub.status.idle": "2024-02-11T12:21:57.306045Z",
     "shell.execute_reply": "2024-02-11T12:21:57.304493Z",
     "shell.execute_reply.started": "2024-02-11T12:21:57.299742Z"
    }
   },
   "outputs": [],
   "source": [
    "import torch\n",
    "import torch.nn as nn\n",
    "import numpy as np\n",
    "import pandas as pd\n",
    "import matplotlib.pyplot as plt\n",
    "from sklearn import datasets\n",
    "from sklearn.preprocessing import StandardScaler\n",
    "from sklearn.metrics import accuracy_score, confusion_matrix, classification_report, f1_score, recall_score, precision_score\n",
    "from torch.utils.data import DataLoader, TensorDataset\n",
    "from sklearn.preprocessing import LabelEncoder\n",
    "import seaborn as sns"
   ]
  },
  {
   "cell_type": "markdown",
   "id": "fdcfc718-3e8b-4ae5-bfb6-61152c995868",
   "metadata": {},
   "source": [
    "## Data processing"
   ]
  },
  {
   "cell_type": "code",
   "execution_count": 25,
   "id": "90a4af38-01d3-4bb6-ad21-5c6c9f814035",
   "metadata": {
    "execution": {
     "iopub.execute_input": "2024-02-11T12:21:57.384275Z",
     "iopub.status.busy": "2024-02-11T12:21:57.383935Z",
     "iopub.status.idle": "2024-02-11T12:22:02.214048Z",
     "shell.execute_reply": "2024-02-11T12:22:02.212699Z",
     "shell.execute_reply.started": "2024-02-11T12:21:57.384247Z"
    }
   },
   "outputs": [
    {
     "data": {
      "text/plain": [
       "(10000, 785)"
      ]
     },
     "execution_count": 25,
     "metadata": {},
     "output_type": "execute_result"
    }
   ],
   "source": [
    "#Read training & test sets into corresponding \n",
    "train=pd.read_csv('/fashion-mnist_train.csv')\n",
    "test=pd.read_csv('/fashion-mnist_test.csv')\n",
    "test.shape"
   ]
  },
  {
   "cell_type": "code",
   "execution_count": 26,
   "id": "c56ff36a-39c0-4ea8-839f-c1486fa7809b",
   "metadata": {
    "execution": {
     "iopub.execute_input": "2024-02-11T12:22:02.217190Z",
     "iopub.status.busy": "2024-02-11T12:22:02.216738Z",
     "iopub.status.idle": "2024-02-11T12:22:03.553108Z",
     "shell.execute_reply": "2024-02-11T12:22:03.551982Z",
     "shell.execute_reply.started": "2024-02-11T12:22:02.217150Z"
    }
   },
   "outputs": [],
   "source": [
    "x_train, y_train = train.drop('label', axis=1), train['label']\n",
    "x_test, y_test = test.drop('label', axis=1), test['label']\n",
    "\n",
    "scaler = StandardScaler()\n",
    "x_train = torch.tensor(scaler.fit_transform(x_train), dtype=torch.float32).view(-1, 1, 28, 28)\n",
    "y_train = torch.tensor(y_train.values, dtype=torch.long)\n",
    "x_test = torch.tensor(scaler.transform(x_test), dtype=torch.float32).view(-1, 1, 28, 28)\n",
    "y_test = torch.tensor(y_test.values, dtype=torch.long)\n",
    "\n",
    "train_dataset = TensorDataset(x_train, y_train)\n",
    "test_dataset = TensorDataset(x_test, y_test)\n",
    "\n",
    "batch_size = 64\n",
    "train_loader = DataLoader(dataset=train_dataset, batch_size=batch_size, shuffle=True)\n",
    "test_loader = DataLoader(dataset=test_dataset, batch_size=batch_size, shuffle=False)"
   ]
  },
  {
   "cell_type": "code",
   "execution_count": 27,
   "id": "e044af4a-35c1-4657-b203-6d98b3895cea",
   "metadata": {
    "execution": {
     "iopub.execute_input": "2024-02-11T12:22:03.559080Z",
     "iopub.status.busy": "2024-02-11T12:22:03.554447Z",
     "iopub.status.idle": "2024-02-11T12:22:03.760642Z",
     "shell.execute_reply": "2024-02-11T12:22:03.759903Z",
     "shell.execute_reply.started": "2024-02-11T12:22:03.559047Z"
    }
   },
   "outputs": [
    {
     "name": "stdout",
     "output_type": "stream",
     "text": [
      "(60000, 785)\n"
     ]
    },
    {
     "data": {
      "image/png": "[encoded data removed]",
      "text/plain": [
       "<Figure size 640x480 with 1 Axes>"
      ]
     },
     "metadata": {},
     "output_type": "display_data"
    }
   ],
   "source": [
    "#Prints the shape of the train tensor\n",
    "print(train.shape)\n",
    "\n",
    "#Shows the image with corresponding label \n",
    "\n",
    "#Changes the label from number to clothing name for readability\n",
    "switch = {\n",
    "    0: \"T-shirt/top\",\n",
    "    1: \"Trouser\",\n",
    "    2: \"Pullover\",\n",
    "    3: \"Dress\",\n",
    "    4: \"Coat\",\n",
    "    5: \"Sandal\",\n",
    "    6: \"Shirt\",\n",
    "    7: \"Sneaker\",\n",
    "    8: \"Bag\",\n",
    "    9: \"Ankle boot\"\n",
    "}\n",
    "def switch_case(argument):\n",
    "    return switch.get(argument)\n",
    "\n",
    "#Change this to display the img_num image in the dataset. (0 indexed)\n",
    "img_num = 1\n",
    "\n",
    "#Gets the img_num row and all the column values for it\n",
    "image_row = train.iloc[img_num, 1:]\n",
    "#sets the label of the image for readability\n",
    "label = switch_case(train.iloc[img_num, 0])\n",
    "\n",
    "#Reshapes the row to a numpy array of size 28x28\n",
    "image = np.array(image_row, dtype=np.uint8).reshape(28, 28)\n",
    "#Displays the image\n",
    "plt.imshow(image, cmap='gray')\n",
    "plt.title(f'Label: {train.iloc[0, 0], label}')\n",
    "plt.show()"
   ]
  },
  {
   "cell_type": "code",
   "execution_count": 28,
   "id": "988d3c17-c156-474c-9d18-0ebe4542b20c",
   "metadata": {
    "execution": {
     "iopub.execute_input": "2024-02-11T12:22:03.762507Z",
     "iopub.status.busy": "2024-02-11T12:22:03.761755Z",
     "iopub.status.idle": "2024-02-11T12:22:03.769950Z",
     "shell.execute_reply": "2024-02-11T12:22:03.768665Z",
     "shell.execute_reply.started": "2024-02-11T12:22:03.762478Z"
    }
   },
   "outputs": [
    {
     "data": {
      "text/plain": [
       "array([[  0,   0,   0,   0,   0,   0,   0,   0,   0,   0,   0,   0,   0,\n",
       "          0,   0,   0,   0,   0,   0,   0,   0,   0,   0,   0,   0,   0,\n",
       "          0,   0],\n",
       "       [  0,   0,   0,   0,   0,   0,   0,   0,   0,   0,   0,   0,   0,\n",
       "          0,   0,   0,   0,   0,   0,   0,   0,   0,   0,   0,   0,   0,\n",
       "          0,   0],\n",
       "       [  0,   0,   0,   0,   0,   0,   0,   0,   0,   0,   0,   0,   0,\n",
       "          0,   0,   0,   0,   0,   0,   0,   0,   0,   0,   0,   0,   0,\n",
       "          0,   0],\n",
       "       [  0,   0,   0,   0,   0,   0,   0,   0,   0,   0,   0,   0,   0,\n",
       "          0,   0,   0,   0,   0,   0,   0,   0,   0,   0,   0,   0,   0,\n",
       "          0,   0],\n",
       "       [  0,   0,   0,   0,   0,   0,   0,   0,   0,   0,   0,   0,   0,\n",
       "          0,   0,   0,   0,   0,   0,   0,   0,   0,   0,   0,   0,   0,\n",
       "          0,   0],\n",
       "       [  0,   0,   0,   0,   0,   0,   0,   0,   0,   0,   0,   0,   1,\n",
       "          1,   0,   0,   0,   0,  81,  21,   0,   1,   0,   1,   0,   0,\n",
       "          0,   0],\n",
       "       [  0,   0,   0,   0,   0,   0,   0,   0,   0,   0,   0,   1,   0,\n",
       "          0,   0,   0,   0,  14, 200,  49,   0,   0,   0,   0,   0,   0,\n",
       "          0,   0],\n",
       "       [  0,   0,   0,   0,   0,   0,   0,   0,   2,   1,   1,   1,   0,\n",
       "          1,   0,   0,   0, 162, 184, 165,  20,   0,   1,   1,   3,   4,\n",
       "          1,   0],\n",
       "       [  0,   0,   0,   0,   0,   0,   0,   0,   0,   0,   0,   1,   2,\n",
       "          0,   2,   0, 120, 183, 154, 206,  32,   0,   5,   5,   0,   0,\n",
       "          0,   0],\n",
       "       [  0,   0,   0,   0,   0,   0,   0,   0,   0,   0,   0,   2,   0,\n",
       "          3,   0,  76, 227, 151, 139, 158,   0,   0,   0,   0,   0,  66,\n",
       "         23,   0],\n",
       "       [  0,   0,   0,   0,   0,   0,   0,   0,   1,   0,   1,   0,   0,\n",
       "          0,  55, 224, 162, 143, 121, 204, 236, 144,  21,  74,  90, 190,\n",
       "          8,   0],\n",
       "       [  0,   0,   0,   0,   0,   0,   0,   0,   0,   1,   0,   0,   0,\n",
       "         42, 228, 160, 148, 125, 165, 223, 208, 221, 246, 211, 174, 151,\n",
       "          0,   0],\n",
       "       [  0,   0,   0,   1,   3,   0,   1,   0,   3,   0,   9,   0,  23,\n",
       "        230, 168, 147, 119, 163, 227, 206, 200, 190, 206, 186, 139, 171,\n",
       "         41,   0],\n",
       "       [  0,   0,   0,   0,   0,   0,   0,   0,   3,   4,   0,  16, 209,\n",
       "        185, 139, 118, 181, 227, 209, 204, 210, 199, 225, 157, 127, 190,\n",
       "        111,   0],\n",
       "       [  1,   3,   2,   1,   3,   2,   3,   0,   0,   0,  67, 214, 187,\n",
       "        139, 111, 191, 229, 203, 208, 208, 196, 223, 188, 100, 128, 155,\n",
       "        112,   0],\n",
       "       [  0,   0,   0,   0,   0,   0,   0,   0,  48, 161, 218, 171, 147,\n",
       "        116, 185, 235, 201, 209, 203, 204, 220, 208, 126, 133, 162, 164,\n",
       "        187,   0],\n",
       "       [  0,  12,  16,   9,   4,  19,  73, 170, 211, 188, 145, 149, 148,\n",
       "        136, 222, 218, 207, 208, 215, 224, 193, 140, 146, 162, 156, 118,\n",
       "        203,  37],\n",
       "       [ 47, 255, 188, 187, 182, 203, 206, 182, 147, 140, 148, 148, 148,\n",
       "        134, 180, 218, 221, 225, 204, 156, 134, 139, 144, 140, 123,  97,\n",
       "        206,  30],\n",
       "       [ 88, 203, 164, 167, 170, 161, 147, 147, 156, 159, 153, 152, 155,\n",
       "        150, 134, 136, 153, 145, 136, 151, 164, 168, 170, 166, 153, 130,\n",
       "        200,  10],\n",
       "       [131, 195, 150, 133, 132, 142, 160, 166, 162, 153, 152, 153, 151,\n",
       "        154, 163, 147, 152, 163, 205, 208, 174, 175, 178, 181, 168, 150,\n",
       "        196,   1],\n",
       "       [155, 228, 197, 172, 138, 123, 121, 122, 126, 129, 135, 139, 144,\n",
       "        158, 177, 192, 239, 244, 178, 176, 183, 179, 185, 177, 147, 148,\n",
       "        192,   0],\n",
       "       [  0,  80, 196, 199, 212, 209, 190, 176, 170, 178, 183, 192, 204,\n",
       "        204, 202, 144,  59,   3,   0,  67, 217, 184, 188, 178, 166, 160,\n",
       "        188,  13],\n",
       "       [  0,   0,   0,   3,  51, 105, 179, 217, 235, 227, 208, 201, 133,\n",
       "         58,   0,   0,   0,   0,   0,  16, 187, 194, 184, 185, 175, 181,\n",
       "        131,   0],\n",
       "       [  0,   3,   0,   0,   0,   0,   0,   0,   0,   0,   0,   0,   0,\n",
       "          0,   0,   5,   5,   5,   0,   0,   0,   0,   0,   0,   0,   0,\n",
       "          0,   0],\n",
       "       [  0,   0,   0,   0,   0,   0,   0,   0,   0,   0,   0,   0,   0,\n",
       "          0,   0,   0,   0,   0,   0,   0,   0,   0,   0,   0,   0,   0,\n",
       "          0,   0],\n",
       "       [  0,   0,   0,   0,   0,   0,   0,   0,   0,   0,   0,   0,   0,\n",
       "          0,   0,   0,   0,   0,   0,   0,   0,   0,   0,   0,   0,   0,\n",
       "          0,   0],\n",
       "       [  0,   0,   0,   0,   0,   0,   0,   0,   0,   0,   0,   0,   0,\n",
       "          0,   0,   0,   0,   0,   0,   0,   0,   0,   0,   0,   0,   0,\n",
       "          0,   0],\n",
       "       [  0,   0,   0,   0,   0,   0,   0,   0,   0,   0,   0,   0,   0,\n",
       "          0,   0,   0,   0,   0,   0,   0,   0,   0,   0,   0,   0,   0,\n",
       "          0,   0]], dtype=uint8)"
      ]
     },
     "execution_count": 28,
     "metadata": {},
     "output_type": "execute_result"
    }
   ],
   "source": [
    "#Displays the pixel values by row\n",
    "image"
   ]
  },
  {
   "cell_type": "code",
   "execution_count": 29,
   "id": "9ebdf217-0740-40c7-b1ae-eeb7ae3c70f2",
   "metadata": {
    "execution": {
     "iopub.execute_input": "2024-02-11T12:22:03.773563Z",
     "iopub.status.busy": "2024-02-11T12:22:03.772410Z",
     "iopub.status.idle": "2024-02-11T12:22:03.934535Z",
     "shell.execute_reply": "2024-02-11T12:22:03.933309Z",
     "shell.execute_reply.started": "2024-02-11T12:22:03.773510Z"
    }
   },
   "outputs": [
    {
     "data": {
      "image/png": "[encoded data removed]",
      "text/plain": [
       "<Figure size 640x480 with 1 Axes>"
      ]
     },
     "metadata": {},
     "output_type": "display_data"
    },
    {
     "data": {
      "text/plain": [
       "0    6000\n",
       "1    6000\n",
       "2    6000\n",
       "3    6000\n",
       "4    6000\n",
       "5    6000\n",
       "6    6000\n",
       "7    6000\n",
       "8    6000\n",
       "9    6000\n",
       "Name: label, dtype: int64"
      ]
     },
     "execution_count": 29,
     "metadata": {},
     "output_type": "execute_result"
    }
   ],
   "source": [
    "#Creates an array of the count of each type of item\n",
    "count = train.iloc[0:, 0].value_counts().sort_index()\n",
    "\n",
    "#Creates a piechart displaying the count of each category to ensure\n",
    "#there is no data biases. \n",
    "label=['T-shirt/top', 'Trouser', 'Pullover', 'Dress', 'Coat', 'Sandal', 'Shirt', 'Sneaker', 'Bag', 'Ankle boot']\n",
    "sizes=count.values\n",
    "plt.pie(sizes, labels=label, autopct='%.2f' )\n",
    "plt.show()\n",
    "\n",
    "count"
   ]
  },
  {
   "cell_type": "markdown",
   "id": "9c20628d-ba78-492c-b8d0-d0e260e61868",
   "metadata": {},
   "source": [
    "## Model"
   ]
  },
  {
   "cell_type": "markdown",
   "id": "0e73a0ac-8dee-4064-a73a-5b3ad9ebcab1",
   "metadata": {},
   "source": [
    "### Convolutional model"
   ]
  },
  {
   "cell_type": "markdown",
   "id": "99f5d8a8-c87c-4b16-9af1-608d6a50cd10",
   "metadata": {},
   "source": [
    "For our model, we use a combination of convolutional and linear layers, with ReLU inbetween layers. Linear layers multiply the input by a matrix A then add a bias B. \n",
    "Instead of going through the picture data pixel by pixel, convolutional layers instead examines it\n",
    "through a kernel, the size of which can be chosen. Square (n x n) kernels are usually used. Each n x n part of the matrix representation\n",
    "of the image is multplied with another n x n matrix of values. The number of unique positions that the kernel can be is smaller than\n",
    "the image size, so the feature map obtained from the multiplication is smaller than the image. This means we will lose information each\n",
    "time the picture is ran through a convolutional layer. Because pixels closer the the center of the image will be in more unique positions,\n",
    "they will have a larger impact on the feature map. By adding padding around the image, we can ensure that all images in the original\n",
    "picture will be represented in an equal amount of positions, and also that the resulting feature map does not result in information loss.\n",
    "ReLU takes max(0, x) to introduce nonlinearities. "
   ]
  },
  {
   "cell_type": "code",
   "execution_count": 30,
   "id": "62b42f2a-6500-41fd-b910-200a90b80d6a",
   "metadata": {
    "execution": {
     "iopub.execute_input": "2024-02-11T12:22:03.937314Z",
     "iopub.status.busy": "2024-02-11T12:22:03.935889Z",
     "iopub.status.idle": "2024-02-11T12:22:03.960988Z",
     "shell.execute_reply": "2024-02-11T12:22:03.959987Z",
     "shell.execute_reply.started": "2024-02-11T12:22:03.937263Z"
    }
   },
   "outputs": [],
   "source": [
    "class ConvolutionalModel(nn.Module):\n",
    "    def __init__(self):\n",
    "        super(ConvolutionalModel, self).__init__()\n",
    "        self.layer_1 = nn.Conv2d(1, 16, kernel_size=3, padding=1)\n",
    "        self.layer_2 = nn.Conv2d(16, 24, kernel_size=3, padding=1)\n",
    "        self.layer_3 = nn.Conv2d(24, 10, kernel_size=3, padding=1)\n",
    "        self.flatten = nn.Flatten()\n",
    "        self.layer_4 = nn.Linear(10 * 28 * 28, 128)\n",
    "        self.layer_5 = nn.Linear(128, 10)\n",
    "        \n",
    "    def forward(self, x):\n",
    "        x = torch.relu(self.layer_1(x))\n",
    "        x = torch.relu(self.layer_2(x))\n",
    "        x = torch.relu(self.layer_3(x))\n",
    "        x = self.flatten(x)\n",
    "        x = torch.relu(self.layer_4(x))\n",
    "        x = self.layer_5(x)\n",
    "        return x\n",
    "\n",
    "    \n",
    "model = ConvolutionalModel()"
   ]
  },
  {
   "cell_type": "markdown",
   "id": "b82a7527-4482-4c8d-b3ce-2ec8a6997dc9",
   "metadata": {},
   "source": [
    "### Hyperparameters"
   ]
  },
  {
   "cell_type": "markdown",
   "id": "4dcfbbfd-b545-40bf-b439-e880333864c7",
   "metadata": {},
   "source": [
    "We choose the criterion as multiclass cross entropy loss. We do not put any weights as the training set is balanced. CES works by \n",
    "taking the log of the softmax function then summing over all items in the batch and dividing by -1 * (total items)"
   ]
  },
  {
   "cell_type": "code",
   "execution_count": 46,
   "id": "44f05afe-1625-43d1-bcd0-50cc40d6e6c0",
   "metadata": {
    "execution": {
     "iopub.execute_input": "2024-02-11T12:58:14.191512Z",
     "iopub.status.busy": "2024-02-11T12:58:14.190807Z",
     "iopub.status.idle": "2024-02-11T12:58:14.197291Z",
     "shell.execute_reply": "2024-02-11T12:58:14.196268Z",
     "shell.execute_reply.started": "2024-02-11T12:58:14.191481Z"
    }
   },
   "outputs": [],
   "source": [
    "num_epochs = 1\n",
    "learning_rate = 0.01\n",
    "criterion = nn.CrossEntropyLoss()\n",
    "optimizer = torch.optim.SGD(model.parameters(), lr=learning_rate)"
   ]
  },
  {
   "cell_type": "markdown",
   "id": "ed81f294-a8c3-4f7d-9d57-d4c6daf68e28",
   "metadata": {},
   "source": [
    "## Training loop"
   ]
  },
  {
   "cell_type": "markdown",
   "id": "05241318-a4b2-4a0a-bf0e-5f82672e6e99",
   "metadata": {},
   "source": [
    "We iterate over the images. Without getting into the details, the model calculates the gradient of the loss, and \"steps\" in the \n",
    "direction that has the greatest negative slope. The optimizer then updates the parameters  accordingly. "
   ]
  },
  {
   "cell_type": "code",
   "execution_count": 50,
   "id": "79839f91-129c-42bd-9a27-aeb95b51c976",
   "metadata": {
    "execution": {
     "iopub.execute_input": "2024-02-11T13:58:50.369581Z",
     "iopub.status.busy": "2024-02-11T13:58:50.369242Z",
     "iopub.status.idle": "2024-02-11T14:01:20.633489Z",
     "shell.execute_reply": "2024-02-11T14:01:20.632536Z",
     "shell.execute_reply.started": "2024-02-11T13:58:50.369554Z"
    }
   },
   "outputs": [
    {
     "name": "stdout",
     "output_type": "stream",
     "text": [
      "Epoch [1/1], Step [10/938], Loss: 0.2570\n",
      "Epoch [1/1], Step [20/938], Loss: 0.2124\n",
      "Epoch [1/1], Step [30/938], Loss: 0.1746\n",
      "Epoch [1/1], Step [40/938], Loss: 0.1783\n",
      "Epoch [1/1], Step [50/938], Loss: 0.1659\n",
      "Epoch [1/1], Step [60/938], Loss: 0.3026\n",
      "Epoch [1/1], Step [70/938], Loss: 0.2358\n",
      "Epoch [1/1], Step [80/938], Loss: 0.2278\n",
      "Epoch [1/1], Step [90/938], Loss: 0.1815\n",
      "Epoch [1/1], Step [100/938], Loss: 0.1913\n",
      "Epoch [1/1], Step [110/938], Loss: 0.2212\n",
      "Epoch [1/1], Step [120/938], Loss: 0.1053\n",
      "Epoch [1/1], Step [130/938], Loss: 0.2504\n",
      "Epoch [1/1], Step [140/938], Loss: 0.5405\n",
      "Epoch [1/1], Step [150/938], Loss: 0.1535\n",
      "Epoch [1/1], Step [160/938], Loss: 0.2341\n",
      "Epoch [1/1], Step [170/938], Loss: 0.1917\n",
      "Epoch [1/1], Step [180/938], Loss: 0.2080\n",
      "Epoch [1/1], Step [190/938], Loss: 0.1434\n",
      "Epoch [1/1], Step [200/938], Loss: 0.2143\n",
      "Epoch [1/1], Step [210/938], Loss: 0.2298\n",
      "Epoch [1/1], Step [220/938], Loss: 0.1292\n",
      "Epoch [1/1], Step [230/938], Loss: 0.1880\n",
      "Epoch [1/1], Step [240/938], Loss: 0.3304\n",
      "Epoch [1/1], Step [250/938], Loss: 0.2293\n",
      "Epoch [1/1], Step [260/938], Loss: 0.2344\n",
      "Epoch [1/1], Step [270/938], Loss: 0.1047\n",
      "Epoch [1/1], Step [280/938], Loss: 0.2178\n",
      "Epoch [1/1], Step [290/938], Loss: 0.2544\n",
      "Epoch [1/1], Step [300/938], Loss: 0.3670\n",
      "Epoch [1/1], Step [310/938], Loss: 0.1157\n",
      "Epoch [1/1], Step [320/938], Loss: 0.2354\n",
      "Epoch [1/1], Step [330/938], Loss: 0.3888\n",
      "Epoch [1/1], Step [340/938], Loss: 0.1699\n",
      "Epoch [1/1], Step [350/938], Loss: 0.1009\n",
      "Epoch [1/1], Step [360/938], Loss: 0.3200\n",
      "Epoch [1/1], Step [370/938], Loss: 0.2191\n",
      "Epoch [1/1], Step [380/938], Loss: 0.3935\n",
      "Epoch [1/1], Step [390/938], Loss: 0.2502\n",
      "Epoch [1/1], Step [400/938], Loss: 0.3109\n",
      "Epoch [1/1], Step [410/938], Loss: 0.1031\n",
      "Epoch [1/1], Step [420/938], Loss: 0.2796\n",
      "Epoch [1/1], Step [430/938], Loss: 0.3276\n",
      "Epoch [1/1], Step [440/938], Loss: 0.1829\n",
      "Epoch [1/1], Step [450/938], Loss: 0.1357\n",
      "Epoch [1/1], Step [460/938], Loss: 0.1577\n",
      "Epoch [1/1], Step [470/938], Loss: 0.2093\n",
      "Epoch [1/1], Step [480/938], Loss: 0.1573\n",
      "Epoch [1/1], Step [490/938], Loss: 0.3961\n",
      "Epoch [1/1], Step [500/938], Loss: 0.2853\n",
      "Epoch [1/1], Step [510/938], Loss: 0.2931\n",
      "Epoch [1/1], Step [520/938], Loss: 0.2588\n",
      "Epoch [1/1], Step [530/938], Loss: 0.1337\n",
      "Epoch [1/1], Step [540/938], Loss: 0.2496\n",
      "Epoch [1/1], Step [550/938], Loss: 0.3952\n",
      "Epoch [1/1], Step [560/938], Loss: 0.1994\n",
      "Epoch [1/1], Step [570/938], Loss: 0.1060\n",
      "Epoch [1/1], Step [580/938], Loss: 0.3019\n",
      "Epoch [1/1], Step [590/938], Loss: 0.1568\n",
      "Epoch [1/1], Step [600/938], Loss: 0.1711\n",
      "Epoch [1/1], Step [610/938], Loss: 0.1918\n",
      "Epoch [1/1], Step [620/938], Loss: 0.2200\n",
      "Epoch [1/1], Step [630/938], Loss: 0.2569\n",
      "Epoch [1/1], Step [640/938], Loss: 0.1950\n",
      "Epoch [1/1], Step [650/938], Loss: 0.1288\n",
      "Epoch [1/1], Step [660/938], Loss: 0.2535\n",
      "Epoch [1/1], Step [670/938], Loss: 0.1184\n",
      "Epoch [1/1], Step [680/938], Loss: 0.4653\n",
      "Epoch [1/1], Step [690/938], Loss: 0.2705\n",
      "Epoch [1/1], Step [700/938], Loss: 0.0870\n",
      "Epoch [1/1], Step [710/938], Loss: 0.4049\n",
      "Epoch [1/1], Step [720/938], Loss: 0.2487\n",
      "Epoch [1/1], Step [730/938], Loss: 0.1705\n",
      "Epoch [1/1], Step [740/938], Loss: 0.0830\n",
      "Epoch [1/1], Step [750/938], Loss: 0.0738\n",
      "Epoch [1/1], Step [760/938], Loss: 0.1550\n",
      "Epoch [1/1], Step [770/938], Loss: 0.2260\n",
      "Epoch [1/1], Step [780/938], Loss: 0.2565\n",
      "Epoch [1/1], Step [790/938], Loss: 0.2981\n",
      "Epoch [1/1], Step [800/938], Loss: 0.2959\n",
      "Epoch [1/1], Step [810/938], Loss: 0.2481\n",
      "Epoch [1/1], Step [820/938], Loss: 0.3621\n",
      "Epoch [1/1], Step [830/938], Loss: 0.1695\n",
      "Epoch [1/1], Step [840/938], Loss: 0.3708\n",
      "Epoch [1/1], Step [850/938], Loss: 0.2244\n",
      "Epoch [1/1], Step [860/938], Loss: 0.2010\n",
      "Epoch [1/1], Step [870/938], Loss: 0.2670\n",
      "Epoch [1/1], Step [880/938], Loss: 0.1955\n",
      "Epoch [1/1], Step [890/938], Loss: 0.1289\n",
      "Epoch [1/1], Step [900/938], Loss: 0.1368\n",
      "Epoch [1/1], Step [910/938], Loss: 0.3172\n",
      "Epoch [1/1], Step [920/938], Loss: 0.3039\n",
      "Epoch [1/1], Step [930/938], Loss: 0.0903\n"
     ]
    }
   ],
   "source": [
    "for epoch in range(num_epochs):\n",
    "    for i, (images, labels) in enumerate(train_loader):\n",
    "        outputs = model(images)\n",
    "        loss = criterion(outputs, labels)\n",
    "\n",
    "        optimizer.zero_grad()\n",
    "        loss.backward()\n",
    "        optimizer.step()\n",
    "\n",
    "        if (i + 1) % 10 == 0:\n",
    "            print(f'Epoch [{epoch+1}/{num_epochs}], Step [{i+1}/{len(train_loader)}], Loss: {loss.item():.4f}')\n"
   ]
  },
  {
   "cell_type": "markdown",
   "id": "3812c705-2483-4d39-abb2-27482c166100",
   "metadata": {},
   "source": [
    "## Conclusion"
   ]
  },
  {
   "cell_type": "code",
   "execution_count": 54,
   "id": "31bc300a-3792-4122-9db1-b4bd10f577d5",
   "metadata": {
    "execution": {
     "iopub.execute_input": "2024-02-11T14:09:45.986148Z",
     "iopub.status.busy": "2024-02-11T14:09:45.985358Z",
     "iopub.status.idle": "2024-02-11T14:09:47.615490Z",
     "shell.execute_reply": "2024-02-11T14:09:47.614590Z",
     "shell.execute_reply.started": "2024-02-11T14:09:45.986118Z"
    }
   },
   "outputs": [
    {
     "name": "stdout",
     "output_type": "stream",
     "text": [
      "90.08\n"
     ]
    }
   ],
   "source": [
    "model.eval()\n",
    "with torch.no_grad():\n",
    "    correct = 0\n",
    "    total = 0\n",
    "    for images, labels in test_loader:\n",
    "        outputs = model(images)\n",
    "        _, predicted = torch.max(outputs.data, 1)\n",
    "        total += labels.size(0)\n",
    "        correct += (predicted == labels).sum().item()\n",
    "\n",
    "print (100*correct / total)"
   ]
  },
  {
   "cell_type": "code",
   "execution_count": 55,
   "id": "64149f97-4bf2-4944-af62-adef88c59f77",
   "metadata": {
    "execution": {
     "iopub.execute_input": "2024-02-11T14:09:49.017550Z",
     "iopub.status.busy": "2024-02-11T14:09:49.016445Z",
     "iopub.status.idle": "2024-02-11T14:09:51.351770Z",
     "shell.execute_reply": "2024-02-11T14:09:51.350291Z",
     "shell.execute_reply.started": "2024-02-11T14:09:49.017521Z"
    }
   },
   "outputs": [
    {
     "data": {
      "image/png": "[encoded data removed]",
      "text/plain": [
       "<Figure size 640x480 with 2 Axes>"
      ]
     },
     "metadata": {},
     "output_type": "display_data"
    }
   ],
   "source": [
    "\n",
    "with torch.no_grad():\n",
    "    y_predicted = model(x_test)\n",
    "    y_predicted_cls = y_predicted.argmax(dim=1)\n",
    "\n",
    "y_pred_np = y_predicted_cls.numpy().flatten()\n",
    "y_test_np = y_test.numpy().flatten()\n",
    "conf_matrix = confusion_matrix(y_test_np, y_pred_np)\n",
    "\n",
    "sns.heatmap(conf_matrix, annot=True, fmt='g')\n",
    "plt.xlabel('Prediction')\n",
    "plt.ylabel('Actual')\n",
    "plt.show()\n"
   ]
  }
 ],
 "metadata": {
  "kernelspec": {
   "display_name": "Python 3 (ipykernel)",
   "language": "python",
   "name": "python3"
  },
  "language_info": {
   "codemirror_mode": {
    "name": "ipython",
    "version": 3
   },
   "file_extension": ".py",
   "mimetype": "text/x-python",
   "name": "python",
   "nbconvert_exporter": "python",
   "pygments_lexer": "ipython3",
   "version": "3.9.16"
  }
 },
 "nbformat": 4,
 "nbformat_minor": 5
}
